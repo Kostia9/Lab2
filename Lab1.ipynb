{
 "cells": [
  {
   "cell_type": "code",
   "execution_count": 25,
   "id": "ae13a6ff",
   "metadata": {},
   "outputs": [],
   "source": [
    "import urllib\n",
    "from datetime import datetime\n",
    "import pandas as pd\n",
    "import os"
   ]
  },
  {
   "cell_type": "code",
   "execution_count": 26,
   "id": "26fb81aa",
   "metadata": {},
   "outputs": [],
   "source": [
    "def VHIDownload():\n",
    "   LST=[24, 25, 5, 6, 27, 23, 26, 7, 11, 13, 14, 15, 16, 17, 18, 19, 21, 22, 8, 9, 10, 1, 3, 2, 20]\n",
    "   for number, obl in enumerate(LST, 1):\n",
    "        url=f'https://www.star.nesdis.noaa.gov/smcd/emb/vci/VH/get_TS_admin.php?country=UKR&provinceID={obl}&year1=1981&year2=2020&type=Mean'\n",
    "\n",
    "        wp = urllib.request.urlopen(url)\n",
    "        text = wp.read()\n",
    "\n",
    "        date = datetime.now().strftime(\"%d-%m-%Y_%H-%M-%S\")\n",
    "        out = open(f'VHI_ID_{number} {date}.csv', 'wb')\n",
    "        out.write(text)\n",
    "        out.close()"
   ]
  },
  {
   "cell_type": "code",
   "execution_count": 27,
   "id": "6611b892",
   "metadata": {},
   "outputs": [],
   "source": [
    "def CreateDataFrame(path):\n",
    "    headers = ['Year', 'Week', 'SMN', 'SMT', 'VCI', 'TCI', 'VHI', 'empty']\n",
    "    all_files = [i for i in os.listdir(path) if i.endswith('csv')]\n",
    "    dataFrames = []\n",
    "    for filename in all_files:\n",
    "        df = pd.read_csv(filename, header = 1, names = headers)\n",
    "        df = df.drop(df.loc[df['VHI'] == -1].index)\n",
    "        i = int(filename.split('_')[2].split()[0])\n",
    "        df['area'] = i\n",
    "\n",
    "        dataFrames.append(df)    \n",
    "    dataFrame = pd.concat(dataFrames, ignore_index=True)\n",
    "    \n",
    "    dataFrame.pop('empty')\n",
    "    dataFrame = dataFrame.dropna()\n",
    "    dataFrame['Year'][(dataFrame['Year']=='<tt><pre>1982')] = '1982'\n",
    "    dataFrame['Week'] = dataFrame['Week'].astype(int)\n",
    "    return dataFrame"
   ]
  },
  {
   "cell_type": "code",
   "execution_count": 28,
   "id": "ce22f9b9",
   "metadata": {},
   "outputs": [],
   "source": [
    "def ExtremumSearch(df, area, year):\n",
    "    Min = df[(df['Year'] == str(year)) & (df['area'] == area)].VHI.min()\n",
    "    Max = df[(df['Year'] == str(year)) & (df['area'] == area)].VHI.max()\n",
    "    print(f'The minimum value of VHI for {area} in {year} = {Min}')\n",
    "    print(f'The maximum value of VHI for {area} in {year} = {Max}')"
   ]
  },
  {
   "cell_type": "code",
   "execution_count": 29,
   "id": "270e4c80",
   "metadata": {},
   "outputs": [],
   "source": [
    "def ExtremeDroughts(df, area):\n",
    "    df_droughts = sorted(set(df[(df['area'] == area) & (df['VHI'] <= 15)]['Year']))\n",
    "    if len(df_droughts) == 0:\n",
    "        print(f'There were no extreme droughts in the region {area}')\n",
    "    else:\n",
    "        print(f'Extreme droughts for {area} were in', end = ' ')\n",
    "        print(*df_droughts, sep=', ')"
   ]
  },
  {
   "cell_type": "code",
   "execution_count": 30,
   "id": "9bbccfad",
   "metadata": {},
   "outputs": [],
   "source": [
    "def ModerateDrought(df, area):\n",
    "    df_droughts = sorted(set(df[(df['area'] == area) & (df['VHI'] <= 35) & (15 < df['VHI'])]['Year']))\n",
    "    if len(df_droughts) == 0:\n",
    "        print(f'There were no moderate droughts in the region {area}')\n",
    "    else:\n",
    "        print(f'Moderate droughts for {area} were in', end = ' ')\n",
    "        print(*df_droughts, sep=', ')"
   ]
  },
  {
   "cell_type": "markdown",
   "id": "aa68e2a6",
   "metadata": {},
   "source": [
    "\\begin{array}{|c|c|c|c|} \n",
    "\t\\hline\n",
    "\t№ \\ області & Назва \\ області & № \\ області & Назва \\ області \\\\ \n",
    "\t\\hline\n",
    "\t1 & Вінницька  & 14 & Одеська\\\\ \n",
    "\t\\hline\n",
    "\t2 & Волинська  & 15 & Полтавська\\\\\n",
    "\t\\hline\n",
    "\t3 & Дніпропетровська & 16 & Рівненська\\\\\n",
    "\t\\hline\n",
    "\t4 & Донецька & 17 & Сумська\\\\\n",
    "\t\\hline\n",
    "\t5 & Житомирська & 18 & Тернопільська\\\\ \n",
    "\t\\hline\n",
    "\t6 & Закарпатська & 19 & Харківська\\\\ \n",
    "\t\\hline\n",
    "\t7 & Запорізька & 20 & Херсонська\\\\\n",
    "\t\\hline\n",
    "\t8 & Івано-Франківська & 21 & Хмельницька\\\\\n",
    "\t\\hline\n",
    "\t9 & Київська & 22 & Черкаська\\\\\n",
    "\t\\hline\n",
    "\t10 & Кіровоградська & 23 & Чернівецька\\\\ \n",
    "\t\\hline\n",
    "\t11 & Луганська & 24 & Чернігівська\\\\ \n",
    "\t\\hline\n",
    "\t12 & Львівська & 25 & Республіка \\ Крим\\\\\n",
    "\t\\hline\n",
    "\t13 & Миколаївська && \\\\\n",
    "\t\\hline\n",
    "\\end{array}\n"
   ]
  },
  {
   "cell_type": "code",
   "execution_count": 31,
   "id": "39eb273e",
   "metadata": {},
   "outputs": [
    {
     "data": {
      "text/html": [
       "<div>\n",
       "<style scoped>\n",
       "    .dataframe tbody tr th:only-of-type {\n",
       "        vertical-align: middle;\n",
       "    }\n",
       "\n",
       "    .dataframe tbody tr th {\n",
       "        vertical-align: top;\n",
       "    }\n",
       "\n",
       "    .dataframe thead th {\n",
       "        text-align: right;\n",
       "    }\n",
       "</style>\n",
       "<table border=\"1\" class=\"dataframe\">\n",
       "  <thead>\n",
       "    <tr style=\"text-align: right;\">\n",
       "      <th></th>\n",
       "      <th>Year</th>\n",
       "      <th>Week</th>\n",
       "      <th>SMN</th>\n",
       "      <th>SMT</th>\n",
       "      <th>VCI</th>\n",
       "      <th>TCI</th>\n",
       "      <th>VHI</th>\n",
       "      <th>area</th>\n",
       "    </tr>\n",
       "  </thead>\n",
       "  <tbody>\n",
       "    <tr>\n",
       "      <th>0</th>\n",
       "      <td>1982</td>\n",
       "      <td>1</td>\n",
       "      <td>0.068</td>\n",
       "      <td>263.59</td>\n",
       "      <td>63.47</td>\n",
       "      <td>28.34</td>\n",
       "      <td>45.90</td>\n",
       "      <td>1</td>\n",
       "    </tr>\n",
       "    <tr>\n",
       "      <th>1</th>\n",
       "      <td>1982</td>\n",
       "      <td>2</td>\n",
       "      <td>0.074</td>\n",
       "      <td>265.78</td>\n",
       "      <td>67.62</td>\n",
       "      <td>23.05</td>\n",
       "      <td>45.34</td>\n",
       "      <td>1</td>\n",
       "    </tr>\n",
       "    <tr>\n",
       "      <th>2</th>\n",
       "      <td>1982</td>\n",
       "      <td>3</td>\n",
       "      <td>0.076</td>\n",
       "      <td>267.19</td>\n",
       "      <td>69.37</td>\n",
       "      <td>20.40</td>\n",
       "      <td>44.88</td>\n",
       "      <td>1</td>\n",
       "    </tr>\n",
       "    <tr>\n",
       "      <th>3</th>\n",
       "      <td>1982</td>\n",
       "      <td>4</td>\n",
       "      <td>0.075</td>\n",
       "      <td>268.57</td>\n",
       "      <td>65.26</td>\n",
       "      <td>17.93</td>\n",
       "      <td>41.60</td>\n",
       "      <td>1</td>\n",
       "    </tr>\n",
       "    <tr>\n",
       "      <th>4</th>\n",
       "      <td>1982</td>\n",
       "      <td>5</td>\n",
       "      <td>0.072</td>\n",
       "      <td>269.24</td>\n",
       "      <td>58.58</td>\n",
       "      <td>20.00</td>\n",
       "      <td>39.29</td>\n",
       "      <td>1</td>\n",
       "    </tr>\n",
       "  </tbody>\n",
       "</table>\n",
       "</div>"
      ],
      "text/plain": [
       "   Year  Week    SMN     SMT    VCI    TCI    VHI  area\n",
       "0  1982     1  0.068  263.59  63.47  28.34  45.90     1\n",
       "1  1982     2  0.074  265.78  67.62  23.05  45.34     1\n",
       "2  1982     3  0.076  267.19  69.37  20.40  44.88     1\n",
       "3  1982     4  0.075  268.57  65.26  17.93  41.60     1\n",
       "4  1982     5  0.072  269.24  58.58  20.00  39.29     1"
      ]
     },
     "execution_count": 31,
     "metadata": {},
     "output_type": "execute_result"
    }
   ],
   "source": [
    "path = r'C:\\Users\\Костянтин\\uni\\Lab1'\n",
    "df = CreateDataFrame(path)\n",
    "df.head()"
   ]
  },
  {
   "cell_type": "code",
   "execution_count": 32,
   "id": "834b52b7",
   "metadata": {},
   "outputs": [
    {
     "name": "stdout",
     "output_type": "stream",
     "text": [
      "The minimum value of VHI for 10 in 2004 = 47.43\n",
      "The maximum value of VHI for 10 in 2004 = 82.89\n"
     ]
    }
   ],
   "source": [
    "ExtremumSearch(df, 10, 2004)"
   ]
  },
  {
   "cell_type": "code",
   "execution_count": 33,
   "id": "f026691e",
   "metadata": {},
   "outputs": [
    {
     "name": "stdout",
     "output_type": "stream",
     "text": [
      "Extreme droughts for 22 were in 2000\n"
     ]
    }
   ],
   "source": [
    "ExtremeDroughts(df, 22)"
   ]
  },
  {
   "cell_type": "code",
   "execution_count": 34,
   "id": "77b1444e",
   "metadata": {},
   "outputs": [
    {
     "name": "stdout",
     "output_type": "stream",
     "text": [
      "Moderate droughts for 14 were in 1982, 1983, 1985, 1986, 1987, 1988, 1989, 1990, 1991, 1992, 1993, 1994, 1995, 1996, 1998, 1999, 2000, 2001, 2003, 2005, 2006, 2007, 2008, 2009, 2011, 2012, 2014, 2015, 2016, 2017, 2018, 2019, 2020\n"
     ]
    }
   ],
   "source": [
    "ModerateDrought(df, 14)"
   ]
  },
  {
   "cell_type": "code",
   "execution_count": null,
   "id": "fc5cd8bf",
   "metadata": {},
   "outputs": [],
   "source": []
  }
 ],
 "metadata": {
  "kernelspec": {
   "display_name": "Python 3 (ipykernel)",
   "language": "python",
   "name": "python3"
  },
  "language_info": {
   "codemirror_mode": {
    "name": "ipython",
    "version": 3
   },
   "file_extension": ".py",
   "mimetype": "text/x-python",
   "name": "python",
   "nbconvert_exporter": "python",
   "pygments_lexer": "ipython3",
   "version": "3.9.15"
  }
 },
 "nbformat": 4,
 "nbformat_minor": 5
}
